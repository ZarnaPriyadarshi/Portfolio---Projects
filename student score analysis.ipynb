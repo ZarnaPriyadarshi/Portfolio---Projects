{
 "cells": [
  {
   "cell_type": "markdown",
   "id": "9d55d343",
   "metadata": {},
   "source": [
    "## Student-Score-Analysis using python"
   ]
  },
  {
   "cell_type": "markdown",
   "id": "6478599d",
   "metadata": {},
   "source": [
    "### 1. Introduction \n",
    "  we aim to accomplish the following for this study:\n",
    "   1)Is there a correlation between various factors and student scores? \n",
    "   2)If so, which factor has the greatest impact on student scores?\n",
    "  \n",
    "  This dataset analysis aims to uncover the impact of personal and socio-economic factors on student academic performance, providing actionable insights for targeted recommendations. Our goal is to find useful information that can help schools give better advice and support to improve students' performance. \n",
    "    \n",
    "\n",
    "### 2.  Dataset review and preparation\n",
    "I have obtained a dataset of student exam scores from Kaggle (https://www.kaggle.com/datasets/desalegngeb/students-exam-scores). The dataset includes three types of student scores such as WritingScore, ReadingScore and MathScore at a public school and the factors such as sports, LunchType, Gender and various other factors that affect these scores."
   ]
  },
  {
   "cell_type": "markdown",
   "id": "01f76417",
   "metadata": {},
   "source": [
    "### 2.1 - Import required libraries"
   ]
  },
  {
   "cell_type": "code",
   "execution_count": 20,
   "id": "fa953376",
   "metadata": {},
   "outputs": [],
   "source": [
    "import pandas as pd\n",
    "import numpy as np\n",
    "import matplotlib.pyplot as plt\n",
    "import seaborn as sns"
   ]
  },
  {
   "cell_type": "markdown",
   "id": "72981f77",
   "metadata": {},
   "source": [
    "We will be using pandas for reading, cleaning the dataset and seaborn for visualization."
   ]
  },
  {
   "cell_type": "markdown",
   "id": "3a2104d5",
   "metadata": {},
   "source": [
    "### 2.1 Step 1 - Read data -> Clean -> Explore"
   ]
  },
  {
   "cell_type": "code",
   "execution_count": 21,
   "id": "cd3410ec",
   "metadata": {
    "scrolled": true
   },
   "outputs": [
    {
     "data": {
      "text/html": [
       "<div>\n",
       "<style scoped>\n",
       "    .dataframe tbody tr th:only-of-type {\n",
       "        vertical-align: middle;\n",
       "    }\n",
       "\n",
       "    .dataframe tbody tr th {\n",
       "        vertical-align: top;\n",
       "    }\n",
       "\n",
       "    .dataframe thead th {\n",
       "        text-align: right;\n",
       "    }\n",
       "</style>\n",
       "<table border=\"1\" class=\"dataframe\">\n",
       "  <thead>\n",
       "    <tr style=\"text-align: right;\">\n",
       "      <th></th>\n",
       "      <th>Gender</th>\n",
       "      <th>EthnicGroup</th>\n",
       "      <th>ParentEduc</th>\n",
       "      <th>LunchType</th>\n",
       "      <th>TestPrep</th>\n",
       "      <th>ParentMaritalStatus</th>\n",
       "      <th>PracticeSport</th>\n",
       "      <th>IsFirstChild</th>\n",
       "      <th>NrSiblings</th>\n",
       "      <th>TransportMeans</th>\n",
       "      <th>WklyStudyHours</th>\n",
       "      <th>MathScore</th>\n",
       "      <th>ReadingScore</th>\n",
       "      <th>WritingScore</th>\n",
       "    </tr>\n",
       "  </thead>\n",
       "  <tbody>\n",
       "    <tr>\n",
       "      <th>0</th>\n",
       "      <td>female</td>\n",
       "      <td>NaN</td>\n",
       "      <td>bachelor's degree</td>\n",
       "      <td>standard</td>\n",
       "      <td>none</td>\n",
       "      <td>married</td>\n",
       "      <td>regularly</td>\n",
       "      <td>yes</td>\n",
       "      <td>3.0</td>\n",
       "      <td>school_bus</td>\n",
       "      <td>&lt; 5</td>\n",
       "      <td>71</td>\n",
       "      <td>71</td>\n",
       "      <td>74</td>\n",
       "    </tr>\n",
       "    <tr>\n",
       "      <th>1</th>\n",
       "      <td>female</td>\n",
       "      <td>group C</td>\n",
       "      <td>some college</td>\n",
       "      <td>standard</td>\n",
       "      <td>NaN</td>\n",
       "      <td>married</td>\n",
       "      <td>sometimes</td>\n",
       "      <td>yes</td>\n",
       "      <td>0.0</td>\n",
       "      <td>NaN</td>\n",
       "      <td>5 - 10</td>\n",
       "      <td>69</td>\n",
       "      <td>90</td>\n",
       "      <td>88</td>\n",
       "    </tr>\n",
       "  </tbody>\n",
       "</table>\n",
       "</div>"
      ],
      "text/plain": [
       "   Gender EthnicGroup         ParentEduc LunchType TestPrep  \\\n",
       "0  female         NaN  bachelor's degree  standard     none   \n",
       "1  female     group C       some college  standard      NaN   \n",
       "\n",
       "  ParentMaritalStatus PracticeSport IsFirstChild  NrSiblings TransportMeans  \\\n",
       "0             married     regularly          yes         3.0     school_bus   \n",
       "1             married     sometimes          yes         0.0            NaN   \n",
       "\n",
       "  WklyStudyHours  MathScore  ReadingScore  WritingScore  \n",
       "0            < 5         71            71            74  \n",
       "1         5 - 10         69            90            88  "
      ]
     },
     "execution_count": 21,
     "metadata": {},
     "output_type": "execute_result"
    }
   ],
   "source": [
    "# read the file\n",
    "df = pd.read_csv(\"Expanded_data_with_more_features.csv\").iloc[:, 1:]\n",
    "df.head(2)"
   ]
  },
  {
   "cell_type": "code",
   "execution_count": 22,
   "id": "fd0052f3",
   "metadata": {},
   "outputs": [
    {
     "name": "stdout",
     "output_type": "stream",
     "text": [
      "<class 'pandas.core.frame.DataFrame'>\n",
      "RangeIndex: 30641 entries, 0 to 30640\n",
      "Data columns (total 14 columns):\n",
      " #   Column               Non-Null Count  Dtype  \n",
      "---  ------               --------------  -----  \n",
      " 0   Gender               30641 non-null  object \n",
      " 1   EthnicGroup          28801 non-null  object \n",
      " 2   ParentEduc           28796 non-null  object \n",
      " 3   LunchType            30641 non-null  object \n",
      " 4   TestPrep             28811 non-null  object \n",
      " 5   ParentMaritalStatus  29451 non-null  object \n",
      " 6   PracticeSport        30010 non-null  object \n",
      " 7   IsFirstChild         29737 non-null  object \n",
      " 8   NrSiblings           29069 non-null  float64\n",
      " 9   TransportMeans       27507 non-null  object \n",
      " 10  WklyStudyHours       29686 non-null  object \n",
      " 11  MathScore            30641 non-null  int64  \n",
      " 12  ReadingScore         30641 non-null  int64  \n",
      " 13  WritingScore         30641 non-null  int64  \n",
      "dtypes: float64(1), int64(3), object(10)\n",
      "memory usage: 3.3+ MB\n"
     ]
    }
   ],
   "source": [
    "df.info()"
   ]
  },
  {
   "cell_type": "markdown",
   "id": "1a8c4359",
   "metadata": {},
   "source": [
    "There are 14 columns, and 30,000 rows in the dataset. Looking at the data-types, we may need to change datatype of few columns later. The dataset contains scores and the demographic information like gender, maritalStatus etc."
   ]
  },
  {
   "cell_type": "code",
   "execution_count": 23,
   "id": "40617053",
   "metadata": {
    "scrolled": true
   },
   "outputs": [
    {
     "data": {
      "text/html": [
       "<div>\n",
       "<style scoped>\n",
       "    .dataframe tbody tr th:only-of-type {\n",
       "        vertical-align: middle;\n",
       "    }\n",
       "\n",
       "    .dataframe tbody tr th {\n",
       "        vertical-align: top;\n",
       "    }\n",
       "\n",
       "    .dataframe thead th {\n",
       "        text-align: right;\n",
       "    }\n",
       "</style>\n",
       "<table border=\"1\" class=\"dataframe\">\n",
       "  <thead>\n",
       "    <tr style=\"text-align: right;\">\n",
       "      <th></th>\n",
       "      <th>NrSiblings</th>\n",
       "      <th>MathScore</th>\n",
       "      <th>ReadingScore</th>\n",
       "      <th>WritingScore</th>\n",
       "    </tr>\n",
       "  </thead>\n",
       "  <tbody>\n",
       "    <tr>\n",
       "      <th>count</th>\n",
       "      <td>29069.000000</td>\n",
       "      <td>30641.000000</td>\n",
       "      <td>30641.000000</td>\n",
       "      <td>30641.000000</td>\n",
       "    </tr>\n",
       "    <tr>\n",
       "      <th>mean</th>\n",
       "      <td>2.145894</td>\n",
       "      <td>66.558402</td>\n",
       "      <td>69.377533</td>\n",
       "      <td>68.418622</td>\n",
       "    </tr>\n",
       "    <tr>\n",
       "      <th>std</th>\n",
       "      <td>1.458242</td>\n",
       "      <td>15.361616</td>\n",
       "      <td>14.758952</td>\n",
       "      <td>15.443525</td>\n",
       "    </tr>\n",
       "    <tr>\n",
       "      <th>min</th>\n",
       "      <td>0.000000</td>\n",
       "      <td>0.000000</td>\n",
       "      <td>10.000000</td>\n",
       "      <td>4.000000</td>\n",
       "    </tr>\n",
       "    <tr>\n",
       "      <th>25%</th>\n",
       "      <td>1.000000</td>\n",
       "      <td>56.000000</td>\n",
       "      <td>59.000000</td>\n",
       "      <td>58.000000</td>\n",
       "    </tr>\n",
       "    <tr>\n",
       "      <th>50%</th>\n",
       "      <td>2.000000</td>\n",
       "      <td>67.000000</td>\n",
       "      <td>70.000000</td>\n",
       "      <td>69.000000</td>\n",
       "    </tr>\n",
       "    <tr>\n",
       "      <th>75%</th>\n",
       "      <td>3.000000</td>\n",
       "      <td>78.000000</td>\n",
       "      <td>80.000000</td>\n",
       "      <td>79.000000</td>\n",
       "    </tr>\n",
       "    <tr>\n",
       "      <th>max</th>\n",
       "      <td>7.000000</td>\n",
       "      <td>100.000000</td>\n",
       "      <td>100.000000</td>\n",
       "      <td>100.000000</td>\n",
       "    </tr>\n",
       "  </tbody>\n",
       "</table>\n",
       "</div>"
      ],
      "text/plain": [
       "         NrSiblings     MathScore  ReadingScore  WritingScore\n",
       "count  29069.000000  30641.000000  30641.000000  30641.000000\n",
       "mean       2.145894     66.558402     69.377533     68.418622\n",
       "std        1.458242     15.361616     14.758952     15.443525\n",
       "min        0.000000      0.000000     10.000000      4.000000\n",
       "25%        1.000000     56.000000     59.000000     58.000000\n",
       "50%        2.000000     67.000000     70.000000     69.000000\n",
       "75%        3.000000     78.000000     80.000000     79.000000\n",
       "max        7.000000    100.000000    100.000000    100.000000"
      ]
     },
     "execution_count": 23,
     "metadata": {},
     "output_type": "execute_result"
    }
   ],
   "source": [
    "df.describe()"
   ]
  },
  {
   "cell_type": "markdown",
   "id": "6973f396",
   "metadata": {},
   "source": [
    "#### Insights\n",
    "1. NrSiblings - Most students have 2 siblings\n",
    "2. MathScore - Student has the average score 66 in math.\n",
    "3. Reading score and Writing Score- student get the average score of 69 and 68 in Reading and Writing respectively."
   ]
  },
  {
   "cell_type": "markdown",
   "id": "5f6febbe",
   "metadata": {},
   "source": [
    "### 3. Explore with viz"
   ]
  },
  {
   "cell_type": "markdown",
   "id": "f68f7d8f",
   "metadata": {},
   "source": [
    "### 3.1 Generating Gender distribution graph"
   ]
  },
  {
   "cell_type": "code",
   "execution_count": 24,
   "id": "95b844da",
   "metadata": {},
   "outputs": [
    {
     "data": {
      "text/plain": [
       "[]"
      ]
     },
     "execution_count": 24,
     "metadata": {},
     "output_type": "execute_result"
    },
    {
     "data": {
      "image/png": "[encoded data removed]",
      "text/plain": [
       "<Figure size 360x360 with 1 Axes>"
      ]
     },
     "metadata": {},
     "output_type": "display_data"
    }
   ],
   "source": [
    "plt.figure(figsize=(5,5))\n",
    "gender_counts=df[\"Gender\"].value_counts()\n",
    "sns.set(style=\"whitegrid\")\n",
    "plt.pie(gender_counts, labels=gender_counts.index, autopct='%1.1f%%')\n",
    "plt.plot()"
   ]
  },
  {
   "cell_type": "markdown",
   "id": "bdac9c52",
   "metadata": {},
   "source": [
    "We have almost equail number of males and females in the dataset."
   ]
  },
  {
   "cell_type": "markdown",
   "id": "63e3a083",
   "metadata": {},
   "source": [
    "### 3.2 Parent education vs Student's score"
   ]
  },
  {
   "cell_type": "markdown",
   "id": "d4d81eef",
   "metadata": {},
   "source": [
    "Now we are going to fing the corelation between parent education on student's score. Hypotesis - Parent education is +vely correlated to student score"
   ]
  },
  {
   "cell_type": "code",
   "execution_count": 25,
   "id": "916c0669",
   "metadata": {},
   "outputs": [
    {
     "data": {
      "text/html": [
       "<div>\n",
       "<style scoped>\n",
       "    .dataframe tbody tr th:only-of-type {\n",
       "        vertical-align: middle;\n",
       "    }\n",
       "\n",
       "    .dataframe tbody tr th {\n",
       "        vertical-align: top;\n",
       "    }\n",
       "\n",
       "    .dataframe thead th {\n",
       "        text-align: right;\n",
       "    }\n",
       "</style>\n",
       "<table border=\"1\" class=\"dataframe\">\n",
       "  <thead>\n",
       "    <tr style=\"text-align: right;\">\n",
       "      <th></th>\n",
       "      <th>Gender</th>\n",
       "      <th>EthnicGroup</th>\n",
       "      <th>ParentEduc</th>\n",
       "      <th>LunchType</th>\n",
       "      <th>TestPrep</th>\n",
       "      <th>ParentMaritalStatus</th>\n",
       "      <th>PracticeSport</th>\n",
       "      <th>IsFirstChild</th>\n",
       "      <th>NrSiblings</th>\n",
       "      <th>TransportMeans</th>\n",
       "      <th>WklyStudyHours</th>\n",
       "      <th>MathScore</th>\n",
       "      <th>ReadingScore</th>\n",
       "      <th>WritingScore</th>\n",
       "      <th>AvgScore</th>\n",
       "    </tr>\n",
       "  </thead>\n",
       "  <tbody>\n",
       "    <tr>\n",
       "      <th>0</th>\n",
       "      <td>female</td>\n",
       "      <td>NaN</td>\n",
       "      <td>bachelor's degree</td>\n",
       "      <td>standard</td>\n",
       "      <td>none</td>\n",
       "      <td>married</td>\n",
       "      <td>regularly</td>\n",
       "      <td>yes</td>\n",
       "      <td>3.0</td>\n",
       "      <td>school_bus</td>\n",
       "      <td>&lt; 5</td>\n",
       "      <td>71</td>\n",
       "      <td>71</td>\n",
       "      <td>74</td>\n",
       "      <td>72.000000</td>\n",
       "    </tr>\n",
       "    <tr>\n",
       "      <th>1</th>\n",
       "      <td>female</td>\n",
       "      <td>group C</td>\n",
       "      <td>some college</td>\n",
       "      <td>standard</td>\n",
       "      <td>NaN</td>\n",
       "      <td>married</td>\n",
       "      <td>sometimes</td>\n",
       "      <td>yes</td>\n",
       "      <td>0.0</td>\n",
       "      <td>NaN</td>\n",
       "      <td>5 - 10</td>\n",
       "      <td>69</td>\n",
       "      <td>90</td>\n",
       "      <td>88</td>\n",
       "      <td>82.333333</td>\n",
       "    </tr>\n",
       "  </tbody>\n",
       "</table>\n",
       "</div>"
      ],
      "text/plain": [
       "   Gender EthnicGroup         ParentEduc LunchType TestPrep  \\\n",
       "0  female         NaN  bachelor's degree  standard     none   \n",
       "1  female     group C       some college  standard      NaN   \n",
       "\n",
       "  ParentMaritalStatus PracticeSport IsFirstChild  NrSiblings TransportMeans  \\\n",
       "0             married     regularly          yes         3.0     school_bus   \n",
       "1             married     sometimes          yes         0.0            NaN   \n",
       "\n",
       "  WklyStudyHours  MathScore  ReadingScore  WritingScore   AvgScore  \n",
       "0            < 5         71            71            74  72.000000  \n",
       "1         5 - 10         69            90            88  82.333333  "
      ]
     },
     "execution_count": 25,
     "metadata": {},
     "output_type": "execute_result"
    }
   ],
   "source": [
    "df[\"AvgScore\"] = (df[\"MathScore\"]+df[\"ReadingScore\"]+df[\"WritingScore\"])/3\n",
    "df.head(2)"
   ]
  },
  {
   "cell_type": "code",
   "execution_count": 26,
   "id": "2728824c",
   "metadata": {},
   "outputs": [
    {
     "data": {
      "image/png": "[encoded data removed]",
      "text/plain": [
       "<Figure size 720x576 with 1 Axes>"
      ]
     },
     "metadata": {},
     "output_type": "display_data"
    }
   ],
   "source": [
    "# Calculate the correlation\n",
    "plt.figure(figsize=(10, 8))\n",
    "# here we are arranging the oarent education level in ascending order\n",
    "col_order=[\"some high school\",\"high school\", \"some college\", \"associate's degree\" ,\"bachelor's degree\", \"master's degree\"]\n",
    "# box plot\n",
    "\n",
    "sns.boxplot(x='ParentEduc', y='AvgScore', data=df, order=col_order)\n",
    "\n",
    "plt.title(\"ParentEduc vs AvgScore\")\n",
    "plt.show()"
   ]
  },
  {
   "cell_type": "markdown",
   "id": "4c5635ec",
   "metadata": {},
   "source": [
    "#### Insights - there is strong positive corelation between parent's education and student's score.\n",
    "\n",
    "The analysis reveals a notable correlation between higher parental education levels, particularly when parents hold a master's degree, and elevated academic performance in each subject. Children of parents with master's degrees consistently demonstrate the highest scores across all subjects."
   ]
  },
  {
   "cell_type": "markdown",
   "id": "aa86857d",
   "metadata": {},
   "source": [
    "### 3.3 - Heatmap of ParentEduc vs Student Score"
   ]
  },
  {
   "cell_type": "markdown",
   "id": "88dc5fd5",
   "metadata": {},
   "source": [
    "In the below code we are going to group parents education by student scores."
   ]
  },
  {
   "cell_type": "code",
   "execution_count": 27,
   "id": "cc151969",
   "metadata": {},
   "outputs": [
    {
     "data": {
      "text/html": [
       "<div>\n",
       "<style scoped>\n",
       "    .dataframe tbody tr th:only-of-type {\n",
       "        vertical-align: middle;\n",
       "    }\n",
       "\n",
       "    .dataframe tbody tr th {\n",
       "        vertical-align: top;\n",
       "    }\n",
       "\n",
       "    .dataframe thead th {\n",
       "        text-align: right;\n",
       "    }\n",
       "</style>\n",
       "<table border=\"1\" class=\"dataframe\">\n",
       "  <thead>\n",
       "    <tr style=\"text-align: right;\">\n",
       "      <th></th>\n",
       "      <th>WritingScore</th>\n",
       "      <th>ReadingScore</th>\n",
       "      <th>MathScore</th>\n",
       "    </tr>\n",
       "    <tr>\n",
       "      <th>ParentEduc</th>\n",
       "      <th></th>\n",
       "      <th></th>\n",
       "      <th></th>\n",
       "    </tr>\n",
       "  </thead>\n",
       "  <tbody>\n",
       "    <tr>\n",
       "      <th>master's degree</th>\n",
       "      <td>76.356896</td>\n",
       "      <td>75.832921</td>\n",
       "      <td>72.336134</td>\n",
       "    </tr>\n",
       "    <tr>\n",
       "      <th>bachelor's degree</th>\n",
       "      <td>73.331069</td>\n",
       "      <td>73.062020</td>\n",
       "      <td>70.466627</td>\n",
       "    </tr>\n",
       "    <tr>\n",
       "      <th>associate's degree</th>\n",
       "      <td>70.299099</td>\n",
       "      <td>71.124324</td>\n",
       "      <td>68.365586</td>\n",
       "    </tr>\n",
       "    <tr>\n",
       "      <th>some college</th>\n",
       "      <td>68.501432</td>\n",
       "      <td>69.179708</td>\n",
       "      <td>66.390472</td>\n",
       "    </tr>\n",
       "    <tr>\n",
       "      <th>high school</th>\n",
       "      <td>65.421136</td>\n",
       "      <td>67.213997</td>\n",
       "      <td>64.435731</td>\n",
       "    </tr>\n",
       "    <tr>\n",
       "      <th>some high school</th>\n",
       "      <td>63.632409</td>\n",
       "      <td>65.510785</td>\n",
       "      <td>62.584013</td>\n",
       "    </tr>\n",
       "  </tbody>\n",
       "</table>\n",
       "</div>"
      ],
      "text/plain": [
       "                    WritingScore  ReadingScore  MathScore\n",
       "ParentEduc                                               \n",
       "master's degree        76.356896     75.832921  72.336134\n",
       "bachelor's degree      73.331069     73.062020  70.466627\n",
       "associate's degree     70.299099     71.124324  68.365586\n",
       "some college           68.501432     69.179708  66.390472\n",
       "high school            65.421136     67.213997  64.435731\n",
       "some high school       63.632409     65.510785  62.584013"
      ]
     },
     "execution_count": 27,
     "metadata": {},
     "output_type": "execute_result"
    }
   ],
   "source": [
    "# Get avg student scores by education \n",
    "score_by_educ = df.groupby('ParentEduc')\\\n",
    "                  .agg({\"WritingScore\": 'mean', \"ReadingScore\": 'mean', \"MathScore\": 'mean'})\\\n",
    "                  .sort_values('MathScore', ascending=False)\n",
    "score_by_educ"
   ]
  },
  {
   "cell_type": "code",
   "execution_count": 28,
   "id": "80f8dbf8",
   "metadata": {},
   "outputs": [
    {
     "data": {
      "image/png": "[encoded data removed]",
      "text/plain": [
       "<Figure size 432x288 with 2 Axes>"
      ]
     },
     "metadata": {},
     "output_type": "display_data"
    },
    {
     "data": {
      "text/plain": [
       "<Figure size 360x360 with 0 Axes>"
      ]
     },
     "metadata": {},
     "output_type": "display_data"
    }
   ],
   "source": [
    "# using heatmap to show the relation betweeen parents education and scores\n",
    "sns.heatmap(score_by_educ, annot=True, cmap='plasma')\n",
    "plt.title(\"Heatmap of avg. scores\")\n",
    "plt.figure(figsize =(5,5))\n",
    "plt.show()"
   ]
  },
  {
   "cell_type": "markdown",
   "id": "ad156317",
   "metadata": {},
   "source": [
    "The heatmap illustrates the relationship between parent education levels and student scores, where darker colors represent lower scores associated with high school education, and lighter colors indicate higher scores linked to the highest level of parents' education. The visualization provides an at-a-glance overview of how parent education correlates with student performance across different score types."
   ]
  },
  {
   "cell_type": "markdown",
   "id": "5a4a438c",
   "metadata": {},
   "source": [
    "### 3.4 - LunchType vs AvgScore"
   ]
  },
  {
   "cell_type": "code",
   "execution_count": 29,
   "id": "2f08a74c",
   "metadata": {},
   "outputs": [
    {
     "data": {
      "image/png": "[encoded data removed]",
      "text/plain": [
       "<Figure size 720x576 with 1 Axes>"
      ]
     },
     "metadata": {},
     "output_type": "display_data"
    }
   ],
   "source": [
    "# Calculate the correlation\n",
    "plt.figure(figsize=(10, 8))\n",
    "# here we are arranging the oarent education level in ascending order\n",
    "col_order=[\"free/reduced\",\"standard\"]\n",
    "# box plot\n",
    "\n",
    "sns.boxplot(x='LunchType', y='AvgScore', data=df, order=col_order)\n",
    "\n",
    "plt.title(\"LunchType vs AvgScore\")\n",
    "plt.show()"
   ]
  },
  {
   "cell_type": "markdown",
   "id": "1be2d151",
   "metadata": {},
   "source": [
    "#### According to the depicted graph, it is evident that students opting for the standard lunch option have academic scores compared  with students who choose the free/reduced lunch alternative."
   ]
  },
  {
   "cell_type": "markdown",
   "id": "9b1ae5e1",
   "metadata": {},
   "source": [
    "### 3.5 - ParentMaritalStatus vs StudentScore"
   ]
  },
  {
   "cell_type": "code",
   "execution_count": 30,
   "id": "6e4f74fe",
   "metadata": {},
   "outputs": [
    {
     "data": {
      "image/png": "[encoded data removed]",
      "text/plain": [
       "<Figure size 720x576 with 1 Axes>"
      ]
     },
     "metadata": {},
     "output_type": "display_data"
    }
   ],
   "source": [
    "# Calculate the correlation\n",
    "plt.figure(figsize=(10, 8))\n",
    "# here we are arranging the oarent education level in ascending order\n",
    "col_order=[\"married\",\"single\", \"divorced\", \"widowed\"]\n",
    "# box plot\n",
    "\n",
    "sns.boxplot(x='ParentMaritalStatus', y='AvgScore', data=df, order=col_order)\n",
    "\n",
    "plt.title(\"ParentMaritalStatus vs AvgScore\")\n",
    "plt.show()"
   ]
  },
  {
   "cell_type": "markdown",
   "id": "6b5c5308",
   "metadata": {},
   "source": [
    "#### Upon careful examination of the above chart, it becomes apparent that the Parental Marital Status variable has no influence on the academic scores of students. The data suggests that the marital status of parents does not play a significant role in determining or affecting students' academic performance as reflected in the observed scores."
   ]
  },
  {
   "cell_type": "markdown",
   "id": "506b2fac",
   "metadata": {},
   "source": [
    "### 3.6 - PracticeSport VS StudentScore"
   ]
  },
  {
   "cell_type": "code",
   "execution_count": 31,
   "id": "eeeb98ba",
   "metadata": {},
   "outputs": [],
   "source": [
    "# Hypothesis - students who practice sport regularly have the higest score"
   ]
  },
  {
   "cell_type": "code",
   "execution_count": 32,
   "id": "62474f23",
   "metadata": {},
   "outputs": [
    {
     "data": {
      "text/html": [
       "<div>\n",
       "<style scoped>\n",
       "    .dataframe tbody tr th:only-of-type {\n",
       "        vertical-align: middle;\n",
       "    }\n",
       "\n",
       "    .dataframe tbody tr th {\n",
       "        vertical-align: top;\n",
       "    }\n",
       "\n",
       "    .dataframe thead th {\n",
       "        text-align: right;\n",
       "    }\n",
       "</style>\n",
       "<table border=\"1\" class=\"dataframe\">\n",
       "  <thead>\n",
       "    <tr style=\"text-align: right;\">\n",
       "      <th></th>\n",
       "      <th>WritingScore</th>\n",
       "      <th>ReadingScore</th>\n",
       "      <th>MathScore</th>\n",
       "    </tr>\n",
       "    <tr>\n",
       "      <th>PracticeSport</th>\n",
       "      <th></th>\n",
       "      <th></th>\n",
       "      <th></th>\n",
       "    </tr>\n",
       "  </thead>\n",
       "  <tbody>\n",
       "    <tr>\n",
       "      <th>never</th>\n",
       "      <td>66.522727</td>\n",
       "      <td>68.337662</td>\n",
       "      <td>64.171079</td>\n",
       "    </tr>\n",
       "    <tr>\n",
       "      <th>regularly</th>\n",
       "      <td>69.604003</td>\n",
       "      <td>69.943019</td>\n",
       "      <td>67.839155</td>\n",
       "    </tr>\n",
       "    <tr>\n",
       "      <th>sometimes</th>\n",
       "      <td>68.072438</td>\n",
       "      <td>69.241307</td>\n",
       "      <td>66.274831</td>\n",
       "    </tr>\n",
       "  </tbody>\n",
       "</table>\n",
       "</div>"
      ],
      "text/plain": [
       "               WritingScore  ReadingScore  MathScore\n",
       "PracticeSport                                       \n",
       "never             66.522727     68.337662  64.171079\n",
       "regularly         69.604003     69.943019  67.839155\n",
       "sometimes         68.072438     69.241307  66.274831"
      ]
     },
     "execution_count": 32,
     "metadata": {},
     "output_type": "execute_result"
    }
   ],
   "source": [
    "sport_df = df.groupby('PracticeSport').agg({\n",
    "    'WritingScore': 'mean',\n",
    "    'ReadingScore': 'mean',\n",
    "    'MathScore': 'mean'\n",
    "})\n",
    "sport_df"
   ]
  },
  {
   "cell_type": "code",
   "execution_count": 33,
   "id": "4d02f1f2",
   "metadata": {
    "scrolled": true
   },
   "outputs": [
    {
     "data": {
      "image/png": "[encoded data removed]",
      "text/plain": [
       "<Figure size 432x288 with 2 Axes>"
      ]
     },
     "metadata": {},
     "output_type": "display_data"
    },
    {
     "data": {
      "text/plain": [
       "<Figure size 360x360 with 0 Axes>"
      ]
     },
     "metadata": {},
     "output_type": "display_data"
    }
   ],
   "source": [
    "sns.heatmap(sport_df, annot=True)\n",
    "plt.title(\"Heatmap of PracticeSport VS StudentScore\")\n",
    "plt.figure(figsize = (5,5))\n",
    "plt.show()"
   ]
  },
  {
   "cell_type": "markdown",
   "id": "246649d1",
   "metadata": {},
   "source": [
    "#### as we can from both table and heatmap there is not much diffrence of playing sport on regular basis on student scores. but it is higher compared to students who never practice sport."
   ]
  },
  {
   "cell_type": "markdown",
   "id": "56f28f64",
   "metadata": {},
   "source": [
    "## 3.7 - Distribution of EthnicGroup"
   ]
  },
  {
   "cell_type": "markdown",
   "id": "6446eb0c",
   "metadata": {},
   "source": [
    "##### In the context of student score analysis, the term \"ethnic group\" typically refers to the cultural or ancestral background of students, often categorized into distinct groups based on factors such as nationality, race, or cultural heritage. Analyzing student scores by ethnic group allows educational researchers and policymakers to explore potential disparities or patterns in academic performance among different demographic groups."
   ]
  },
  {
   "cell_type": "code",
   "execution_count": 34,
   "id": "f2648ce8",
   "metadata": {},
   "outputs": [
    {
     "name": "stdout",
     "output_type": "stream",
     "text": [
      "[nan 'group C' 'group B' 'group A' 'group D' 'group E']\n"
     ]
    }
   ],
   "source": [
    "print(df['EthnicGroup'].unique())"
   ]
  },
  {
   "cell_type": "code",
   "execution_count": 35,
   "id": "1b48fe21",
   "metadata": {},
   "outputs": [
    {
     "name": "stdout",
     "output_type": "stream",
     "text": [
      "([<matplotlib.patches.Wedge object at 0x000002CFD1E66520>, <matplotlib.patches.Wedge object at 0x000002CFD1E66430>, <matplotlib.patches.Wedge object at 0x000002CFD1E74250>, <matplotlib.patches.Wedge object at 0x000002CFD1E748E0>, <matplotlib.patches.Wedge object at 0x000002CFD1E74F70>], [Text(1.0679343162184989, 0.26365943230411354, 'Group A'), Text(0.479656756487504, 0.989913832591447, 'Group B'), Text(-1.0208489310562472, 0.40971631644507106, 'Group C'), Text(-0.14172979830625182, -1.09083118046381, 'Group D'), Text(0.9948566425203025, -0.4693189329584214, 'Group E')], [Text(0.582509627028272, 0.14381423580224373, '8%'), Text(0.26163095808409303, 0.5399529995953347, '20%'), Text(-0.5568266896670439, 0.2234816271518569, '32%'), Text(-0.07730716271250097, -0.5949988257075327, '26%'), Text(0.5426490777383467, -0.255992145250048, '14%')])\n"
     ]
    },
    {
     "data": {
      "image/png": "[encoded data removed]",
      "text/plain": [
       "<Figure size 432x288 with 1 Axes>"
      ]
     },
     "metadata": {},
     "output_type": "display_data"
    }
   ],
   "source": [
    "group_a = df.loc[(df['EthnicGroup'] == \"group A\")].count()\n",
    "group_b = df.loc[(df['EthnicGroup'] == \"group B\")].count()\n",
    "group_c = df.loc[(df['EthnicGroup'] == \"group C\")].count()\n",
    "group_d = df.loc[(df['EthnicGroup'] == \"group D\")].count()\n",
    "group_e = df.loc[(df['EthnicGroup'] == \"group E\")].count()\n",
    "\n",
    "ethnicgroup_list = [group_a[\"EthnicGroup\"],group_b[\"EthnicGroup\"],group_c[\"EthnicGroup\"],group_d[\"EthnicGroup\"],group_e[\"EthnicGroup\"]]\n",
    "pie_percent = plt.pie(ethnicgroup_list , labels = ['Group A','Group B','Group C', 'Group D', 'Group E'], autopct= \"%.f%%\")\n",
    "print(pie_percent)\n",
    "plt.title(\"Distribution of Ethnic Group\")\n",
    "plt.show()"
   ]
  }
 ],
 "metadata": {
  "kernelspec": {
   "display_name": "Python 3 (ipykernel)",
   "language": "python",
   "name": "python3"
  },
  "language_info": {
   "codemirror_mode": {
    "name": "ipython",
    "version": 3
   },
   "file_extension": ".py",
   "mimetype": "text/x-python",
   "name": "python",
   "nbconvert_exporter": "python",
   "pygments_lexer": "ipython3",
   "version": "3.9.12"
  }
 },
 "nbformat": 4,
 "nbformat_minor": 5
}
